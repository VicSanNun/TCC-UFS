{
 "cells": [
  {
   "cell_type": "code",
   "execution_count": 1,
   "id": "ec852e8b",
   "metadata": {},
   "outputs": [],
   "source": [
    "from sympy import *"
   ]
  },
  {
   "cell_type": "code",
   "execution_count": 41,
   "id": "c0d343ca",
   "metadata": {},
   "outputs": [
    {
     "name": "stdout",
     "output_type": "stream",
     "text": [
      "h1^2 = a**2*sin(t2)**2*sin(t3)**2*cosh(X)**2\n",
      "h2^2 = a**2*sin(t3)**2*cosh(X)**2\n",
      "h3^2 = -a**2*(sin(t3)**2 - cosh(X)**2)\n",
      "h4^2 = -a**2*(sin(t3)**2 - cosh(X)**2)\n",
      "\n",
      "\n",
      "h1^2 = a^{2} \\sin^{2}{\\left(t_{2} \\right)} \\sin^{2}{\\left(t_{3} \\right)} \\cosh^{2}{\\left(X \\right)}\n",
      "h2^2 = a^{2} \\sin^{2}{\\left(t_{3} \\right)} \\cosh^{2}{\\left(X \\right)}\n",
      "h3^2 = - a^{2} \\left(\\sin^{2}{\\left(t_{3} \\right)} - \\cosh^{2}{\\left(X \\right)}\\right)\n",
      "h4^2 = - a^{2} \\left(\\sin^{2}{\\left(t_{3} \\right)} - \\cosh^{2}{\\left(X \\right)}\\right)\n",
      "\n",
      "\n",
      "- \\frac{\\left(a^{2} \\left(\\sinh^{2}{\\left(X \\right)} + 1\\right) \\sin^{2}{\\left(t_{3} \\right)}\\right)^{0.5} \\left(\\frac{1}{\\cosh^{2}{\\left(X \\right)}} - \\frac{1}{\\sin^{2}{\\left(t_{3} \\right)}}\\right)}{\\sin^{2}{\\left(t_{2} \\right)}}\n"
     ]
    }
   ],
   "source": [
    "#Definições\n",
    "X = Symbol('X')\n",
    "a = Symbol('a')\n",
    "t1 = Symbol('t1')\n",
    "t2 = Symbol('t2')\n",
    "t3 = Symbol('t3')\n",
    "h1square = Symbol('h1square')\n",
    "h2square = Symbol('h2square')\n",
    "h3square = Symbol('h3square')\n",
    "h4square = Symbol('h4square')\n",
    "x4 = Function('x4')\n",
    "x3 = Function('x3')\n",
    "x2 = Function('x2')\n",
    "x1 = Function('x1')\n",
    "\n",
    "#Código\n",
    "x4 = a*sinh(X)*cos(t3)\n",
    "x3 = a*cosh(X)*sin(t3)*cos(t2)\n",
    "x2 = a*cosh(X)*sin(t3)*sin(t2)*cos(t1)\n",
    "x1 = a*cosh(X)*sin(t3)*sin(t2)*sin(t1)\n",
    "\n",
    "\n",
    "h1square = (diff(x1, t1)**2)+(diff(x2, t1)**2)+(diff(x3, t1)**2)+(diff(x4, t1)**2)\n",
    "h2square = (diff(x1, t2)**2)+(diff(x2, t2)**2)+(diff(x3, t2)**2)+(diff(x4, t2)**2)\n",
    "h3square = (diff(x1, t3)**2)+(diff(x2, t3)**2)+(diff(x3, t3)**2)+(diff(x4, t3)**2)\n",
    "h4square = (diff(x1, X)**2)+(diff(x2, X)**2)+(diff(x3, X)**2)+(diff(x4, X)**2)\n",
    "\n",
    "print('h1^2 =', simplify(h1square))\n",
    "print('h2^2 =', simplify(h2square))\n",
    "print('h3^2 =', simplify(h3square))\n",
    "print('h4^2 =', simplify(h4square))\n",
    "print('\\n')\n",
    "print('h1^2 =', latex(simplify(h1square)))\n",
    "print('h2^2 =', latex(simplify(h2square)))\n",
    "print('h3^2 =', latex(simplify(h3square)))\n",
    "print('h4^2 =', latex(simplify(h4square)))\n",
    "print('\\n')\n",
    "print(latex(simplify(((h2square)**(1/2)*h3square)/h1square)))"
   ]
  }
 ],
 "metadata": {
  "kernelspec": {
   "display_name": "Python 3",
   "language": "python",
   "name": "python3"
  },
  "language_info": {
   "codemirror_mode": {
    "name": "ipython",
    "version": 3
   },
   "file_extension": ".py",
   "mimetype": "text/x-python",
   "name": "python",
   "nbconvert_exporter": "python",
   "pygments_lexer": "ipython3",
   "version": "3.8.5"
  }
 },
 "nbformat": 4,
 "nbformat_minor": 5
}
